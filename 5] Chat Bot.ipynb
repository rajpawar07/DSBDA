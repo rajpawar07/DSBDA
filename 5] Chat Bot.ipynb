{
 "cells": [
  {
   "cell_type": "code",
   "execution_count": 1,
   "id": "631556b9",
   "metadata": {},
   "outputs": [
    {
     "name": "stdout",
     "output_type": "stream",
     "text": [
      "Hello! I'm ChatBot. How can I assist you today?\n",
      "> hello\n",
      "I'm sorry, I cannot understand your request. Could you please rephrase it?\n",
      "> thank\n",
      "You're welcome! It was my pleasure to assist you.\n",
      "> bye\n",
      "Goodbye! Have a great day!\n"
     ]
    }
   ],
   "source": [
    "class ChatBot:\n",
    "    def __init__(self):\n",
    "        self.name = \"ChatBot\"\n",
    "    \n",
    "    def greet(self):\n",
    "        return f\"Hello! I'm {self.name}. How can I assist you today?\"\n",
    "    \n",
    "    def handle_customer_interaction(self, user_input):\n",
    "        if self.is_thank_you(user_input):\n",
    "            return \"You're welcome! It was my pleasure to assist you.\"\n",
    "        elif self.is_goodbye(user_input):\n",
    "            return \"Goodbye! Have a great day!\"\n",
    "        else:\n",
    "            return \"I'm sorry, I cannot understand your request. Could you please rephrase it?\"\n",
    "    \n",
    "    def is_thank_you(self, user_input):\n",
    "        return any(word in user_input.lower() for word in [\"thank\", \"thanks\"])\n",
    "    \n",
    "    def is_goodbye(self, user_input):\n",
    "        return any(word in user_input.lower() for word in [\"bye\", \"goodbye\"])\n",
    "\n",
    "# Example usage\n",
    "chatbot = ChatBot()\n",
    "print(chatbot.greet())\n",
    "\n",
    "while True:\n",
    "    user_input = input(\"> \")\n",
    "    response = chatbot.handle_customer_interaction(user_input)\n",
    "    print(response)\n",
    "    if chatbot.is_goodbye(user_input):\n",
    "        break"
   ]
  },
  {
   "cell_type": "code",
   "execution_count": null,
   "id": "a7448674",
   "metadata": {},
   "outputs": [],
   "source": []
  },
  {
   "cell_type": "code",
   "execution_count": null,
   "id": "2aa33168",
   "metadata": {},
   "outputs": [],
   "source": []
  }
 ],
 "metadata": {
  "kernelspec": {
   "display_name": "Python 3 (ipykernel)",
   "language": "python",
   "name": "python3"
  },
  "language_info": {
   "codemirror_mode": {
    "name": "ipython",
    "version": 3
   },
   "file_extension": ".py",
   "mimetype": "text/x-python",
   "name": "python",
   "nbconvert_exporter": "python",
   "pygments_lexer": "ipython3",
   "version": "3.11.2"
  }
 },
 "nbformat": 4,
 "nbformat_minor": 5
}
