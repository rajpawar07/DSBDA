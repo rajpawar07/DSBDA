{
 "cells": [
  {
   "cell_type": "code",
   "execution_count": 1,
   "id": "dc16d5d2",
   "metadata": {},
   "outputs": [
    {
     "name": "stdout",
     "output_type": "stream",
     "text": [
      "Shortest distances from source vertex 0\n",
      "Vertex 0: Distance = 0\n",
      "Vertex 1: Distance = 8\n",
      "Vertex 2: Distance = 9\n",
      "Vertex 3: Distance = 7\n",
      "Vertex 4: Distance = 5\n"
     ]
    }
   ],
   "source": [
    "import heapq\n",
    "\n",
    "\n",
    "class Graph:\n",
    "    def __init__(self, vertices):\n",
    "        self.V = vertices\n",
    "        self.adjacency_list = [[] for _ in range(vertices)]\n",
    "\n",
    "    def add_edge(self, u, v, weight):\n",
    "        self.adjacency_list[u].append((v, weight))\n",
    "\n",
    "    def dijkstra(self, source):\n",
    "        distance = [float('inf')] * self.V\n",
    "        distance[source] = 0\n",
    "        pq = [(0, source)]  # Priority queue to store vertices with their respective distances\n",
    "        heapq.heapify(pq)\n",
    "\n",
    "        while pq:\n",
    "            dist, u = heapq.heappop(pq)\n",
    "\n",
    "            if dist > distance[u]:\n",
    "                continue\n",
    "\n",
    "            for v, weight in self.adjacency_list[u]:\n",
    "                new_dist = dist + weight\n",
    "\n",
    "                if new_dist < distance[v]:\n",
    "                    distance[v] = new_dist\n",
    "                    heapq.heappush(pq, (new_dist, v))\n",
    "\n",
    "        return distance\n",
    "\n",
    "\n",
    "# Example usage\n",
    "g = Graph(5)\n",
    "g.add_edge(0, 1, 10)\n",
    "g.add_edge(0, 4, 5)\n",
    "g.add_edge(1, 2, 1)\n",
    "g.add_edge(1, 4, 2)\n",
    "g.add_edge(2, 3, 4)\n",
    "g.add_edge(3, 2, 6)\n",
    "g.add_edge(3, 0, 7)\n",
    "g.add_edge(4, 1, 3)\n",
    "g.add_edge(4, 2, 9)\n",
    "g.add_edge(4, 3, 2)\n",
    "\n",
    "source_vertex = 0\n",
    "shortest_distances = g.dijkstra(source_vertex)\n",
    "\n",
    "print(\"Shortest distances from source vertex\", source_vertex)\n",
    "for vertex, distance in enumerate(shortest_distances):\n",
    "    print(f\"Vertex {vertex}: Distance = {distance}\")"
   ]
  },
  {
   "cell_type": "code",
   "execution_count": null,
   "id": "d708865d",
   "metadata": {},
   "outputs": [],
   "source": []
  }
 ],
 "metadata": {
  "kernelspec": {
   "display_name": "Python 3 (ipykernel)",
   "language": "python",
   "name": "python3"
  },
  "language_info": {
   "codemirror_mode": {
    "name": "ipython",
    "version": 3
   },
   "file_extension": ".py",
   "mimetype": "text/x-python",
   "name": "python",
   "nbconvert_exporter": "python",
   "pygments_lexer": "ipython3",
   "version": "3.11.2"
  }
 },
 "nbformat": 4,
 "nbformat_minor": 5
}
