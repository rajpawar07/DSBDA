{
 "cells": [
  {
   "cell_type": "code",
   "execution_count": 1,
   "id": "9fd3951a",
   "metadata": {},
   "outputs": [
    {
     "name": "stdout",
     "output_type": "stream",
     "text": [
      "Minimum number of colors required: 3\n",
      "Vertex 1: Color 1\n",
      "Vertex 2: Color 2\n",
      "Vertex 3: Color 3\n",
      "Vertex 4: Color 2\n"
     ]
    }
   ],
   "source": [
    "class GraphColoring:\n",
    "    def __init__(self, graph, colors):\n",
    "        self.graph = graph\n",
    "        self.colors = colors\n",
    "        self.num_vertices = len(graph)\n",
    "        self.solution = [-1] * self.num_vertices\n",
    "        self.min_colors = float('inf')\n",
    "        self.best_solution = []\n",
    "\n",
    "    def solve_graph_coloring(self):\n",
    "        self.backtrack(0)\n",
    "        self.print_solution()\n",
    "\n",
    "    def backtrack(self, vertex):\n",
    "        if vertex == self.num_vertices:\n",
    "            self.update_solution()\n",
    "            return\n",
    "\n",
    "        for color in range(1, self.colors + 1):\n",
    "            if self.is_safe(vertex, color):\n",
    "                self.solution[vertex] = color\n",
    "                self.backtrack(vertex + 1)\n",
    "                self.solution[vertex] = -1\n",
    "\n",
    "    def is_safe(self, vertex, color):\n",
    "        for i in range(self.num_vertices):\n",
    "            if self.graph[vertex][i] == 1 and self.solution[i] == color:\n",
    "                return False\n",
    "        return True\n",
    "\n",
    "    def update_solution(self):\n",
    "        num_colors = len(set(self.solution))\n",
    "        if num_colors < self.min_colors:\n",
    "            self.min_colors = num_colors\n",
    "            self.best_solution = self.solution.copy()\n",
    "\n",
    "    def print_solution(self):\n",
    "        print(f\"Minimum number of colors required: {self.min_colors}\")\n",
    "        for i, color in enumerate(self.best_solution):\n",
    "            print(f\"Vertex {i + 1}: Color {color}\")\n",
    "\n",
    "\n",
    "# Example usage\n",
    "graph = [\n",
    "    [0, 1, 1, 1],\n",
    "    [1, 0, 1, 0],\n",
    "    [1, 1, 0, 1],\n",
    "    [1, 0, 1, 0]\n",
    "]\n",
    "num_colors = 3  # Number of available colors\n",
    "graph_coloring = GraphColoring(graph, num_colors)\n",
    "graph_coloring.solve_graph_coloring()"
   ]
  },
  {
   "cell_type": "code",
   "execution_count": null,
   "id": "d16631a8",
   "metadata": {},
   "outputs": [],
   "source": []
  }
 ],
 "metadata": {
  "kernelspec": {
   "display_name": "Python 3 (ipykernel)",
   "language": "python",
   "name": "python3"
  },
  "language_info": {
   "codemirror_mode": {
    "name": "ipython",
    "version": 3
   },
   "file_extension": ".py",
   "mimetype": "text/x-python",
   "name": "python",
   "nbconvert_exporter": "python",
   "pygments_lexer": "ipython3",
   "version": "3.11.3"
  }
 },
 "nbformat": 4,
 "nbformat_minor": 5
}
