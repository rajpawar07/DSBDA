{
 "cells": [
  {
   "cell_type": "code",
   "execution_count": 1,
   "id": "4df970a6",
   "metadata": {},
   "outputs": [
    {
     "ename": "ModuleNotFoundError",
     "evalue": "No module named 'nltk'",
     "output_type": "error",
     "traceback": [
      "\u001b[1;31m---------------------------------------------------------------------------\u001b[0m",
      "\u001b[1;31mModuleNotFoundError\u001b[0m                       Traceback (most recent call last)",
      "Cell \u001b[1;32mIn[1], line 1\u001b[0m\n\u001b[1;32m----> 1\u001b[0m \u001b[38;5;28;01mfrom\u001b[39;00m \u001b[38;5;21;01mnltk\u001b[39;00m\u001b[38;5;21;01m.\u001b[39;00m\u001b[38;5;21;01mchat\u001b[39;00m\u001b[38;5;21;01m.\u001b[39;00m\u001b[38;5;21;01mutil\u001b[39;00m \u001b[38;5;28;01mimport\u001b[39;00m Chat, reflections\n\u001b[0;32m      3\u001b[0m pairs \u001b[38;5;241m=\u001b[39m [\n\u001b[0;32m      4\u001b[0m     [\u001b[38;5;124m'\u001b[39m\u001b[38;5;124m(hi|hello|hey)\u001b[39m\u001b[38;5;124m'\u001b[39m,[\u001b[38;5;124m'\u001b[39m\u001b[38;5;124mHey there !\u001b[39m\u001b[38;5;124m'\u001b[39m,\u001b[38;5;124m'\u001b[39m\u001b[38;5;124mHi there !\u001b[39m\u001b[38;5;124m'\u001b[39m,\u001b[38;5;124m'\u001b[39m\u001b[38;5;124mHey !\u001b[39m\u001b[38;5;124m'\u001b[39m]],\n\u001b[0;32m      5\u001b[0m     [\u001b[38;5;124m'\u001b[39m\u001b[38;5;124m(.*) your name?\u001b[39m\u001b[38;5;124m'\u001b[39m,[\u001b[38;5;124m'\u001b[39m\u001b[38;5;124mMy name is bot.\u001b[39m\u001b[38;5;124m'\u001b[39m]],\n\u001b[1;32m   (...)\u001b[0m\n\u001b[0;32m     11\u001b[0m     [\u001b[38;5;124m'\u001b[39m\u001b[38;5;124mI am facing problem while doing payment\u001b[39m\u001b[38;5;124m'\u001b[39m,[\u001b[38;5;124m'\u001b[39m\u001b[38;5;124mContact our customer care.\u001b[39m\u001b[38;5;130;01m\\n\u001b[39;00m\u001b[38;5;124ma.4565878787\u001b[39m\u001b[38;5;130;01m\\n\u001b[39;00m\u001b[38;5;124mb.45546773673\u001b[39m\u001b[38;5;130;01m\\n\u001b[39;00m\u001b[38;5;124mc.3724387654\u001b[39m\u001b[38;5;124m'\u001b[39m]],\n\u001b[0;32m     12\u001b[0m ]\n\u001b[0;32m     14\u001b[0m chat \u001b[38;5;241m=\u001b[39m Chat(pairs,reflections)\n",
      "\u001b[1;31mModuleNotFoundError\u001b[0m: No module named 'nltk'"
     ]
    }
   ],
   "source": [
    "from nltk.chat.util import Chat, reflections\n",
    "\n",
    "pairs = [\n",
    "    ['(hi|hello|hey)',['Hey there !','Hi there !','Hey !']],\n",
    "    ['(.*) your name?',['My name is bot.']],\n",
    "    ['What are the best places to travel?',['1. Pune \\n2. Kolhapur \\n3. Nashik']],\n",
    "    ['offers',['Best offeres for you. \\n1.50% off on Pune trip. \\2.30% off on Kolhapur trip.']],\n",
    "    ['quite',['Thank you for connecting with me.\\nHave a nice day.']],\n",
    "    ['(I want to book trip|How to book a trip)',['Okay!\\n1.Go to your app.\\n2.You will see the option \"Book a Trip\".Click on it. \\n3.Enter your details.\\n4.Make a payment.\\n5.Congratulations! Happy journey']],\n",
    "    ['I am facing problem while booking a trip',['Check your internet connection or try again later']],\n",
    "    ['I am facing problem while doing payment',['Contact our customer care.\\na.4565878787\\nb.45546773673\\nc.3724387654']],\n",
    "]\n",
    "\n",
    "chat = Chat(pairs,reflections)\n",
    "chat.converse()"
   ]
  },
  {
   "cell_type": "code",
   "execution_count": null,
   "id": "4f20ec68",
   "metadata": {},
   "outputs": [],
   "source": []
  },
  {
   "cell_type": "code",
   "execution_count": null,
   "id": "84bd577c",
   "metadata": {},
   "outputs": [],
   "source": []
  }
 ],
 "metadata": {
  "kernelspec": {
   "display_name": "Python 3 (ipykernel)",
   "language": "python",
   "name": "python3"
  },
  "language_info": {
   "codemirror_mode": {
    "name": "ipython",
    "version": 3
   },
   "file_extension": ".py",
   "mimetype": "text/x-python",
   "name": "python",
   "nbconvert_exporter": "python",
   "pygments_lexer": "ipython3",
   "version": "3.11.3"
  }
 },
 "nbformat": 4,
 "nbformat_minor": 5
}
