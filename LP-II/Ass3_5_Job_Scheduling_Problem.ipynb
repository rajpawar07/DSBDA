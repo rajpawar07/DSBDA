{
 "cells": [
  {
   "cell_type": "code",
   "execution_count": 2,
   "id": "7a021f67",
   "metadata": {},
   "outputs": [
    {
     "name": "stdout",
     "output_type": "stream",
     "text": [
      "Job sequence :  ['c', 'a', 'e']\n",
      "Profit :  142\n"
     ]
    }
   ],
   "source": [
    "import operator\n",
    "\n",
    "def JobScheduling(jobs,time):\n",
    "   \n",
    "    \n",
    "    # Sort all the jobs in decreasing order of profit\n",
    "    sortedJob = sorted(jobs,key=operator.itemgetter(2))\n",
    "    sortedJob.reverse()\n",
    "    \n",
    "    # to keep track of free time slots\n",
    "    slots = [False] * (time)\n",
    "    \n",
    "    # to store sequence of jobs\n",
    "    jobSequence = ['-1'] * (time)\n",
    "    \n",
    "       \n",
    "    # Iterate through all the jobs sorted in decreasing order\n",
    "    # according to their profit\n",
    "    profit= 0\n",
    "    for job in sortedJob:\n",
    "       # Find the availabe free slots for this job\n",
    "       # Note : Here we try to allocate slot from the Deadline of job i.e.\n",
    "       # we try to complete this job late as possible\n",
    "        \n",
    "        for i in reversed(range(0,job[1])):\n",
    "            # If free slot is found allocate it\n",
    "            if(slots[i] == False):\n",
    "                slots[i] = True\n",
    "                jobSequence[i] = job[0]\n",
    "                profit += job[2]\n",
    "                break\n",
    "    \n",
    "            \n",
    "    print(\"Job sequence : \",jobSequence)\n",
    "    print(\"Profit : \",profit)\n",
    "\n",
    "if __name__ == '__main__':\n",
    "    # Note: We assumed for each job require on unit of time\n",
    "    # to complete\n",
    "    jobs = [['a', 2, 100],\n",
    "              ['b', 1, 19],\n",
    "              ['c', 2, 27],\n",
    "              ['d', 1, 25],\n",
    "              ['e', 3, 15]]\n",
    "    \n",
    "    JobScheduling(jobs,3)"
   ]
  },
  {
   "cell_type": "code",
   "execution_count": null,
   "id": "07953949",
   "metadata": {},
   "outputs": [],
   "source": []
  },
  {
   "cell_type": "code",
   "execution_count": null,
   "id": "58133ca5",
   "metadata": {},
   "outputs": [],
   "source": []
  }
 ],
 "metadata": {
  "kernelspec": {
   "display_name": "Python 3 (ipykernel)",
   "language": "python",
   "name": "python3"
  },
  "language_info": {
   "codemirror_mode": {
    "name": "ipython",
    "version": 3
   },
   "file_extension": ".py",
   "mimetype": "text/x-python",
   "name": "python",
   "nbconvert_exporter": "python",
   "pygments_lexer": "ipython3",
   "version": "3.11.3"
  }
 },
 "nbformat": 4,
 "nbformat_minor": 5
}
