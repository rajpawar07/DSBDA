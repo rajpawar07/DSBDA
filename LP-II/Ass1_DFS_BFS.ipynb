{
 "cells": [
  {
   "cell_type": "markdown",
   "id": "7bbc28dd",
   "metadata": {},
   "source": [
    "### DFS"
   ]
  },
  {
   "cell_type": "code",
   "execution_count": 2,
   "id": "f267a95d",
   "metadata": {},
   "outputs": [
    {
     "name": "stdout",
     "output_type": "stream",
     "text": [
      "Enter the number of vertices : 5\n",
      "Enter number of edges : 2\n",
      "Enter start of edge 0 :1\n",
      "Enter the end of edge 0 :0\n",
      "Enter start of edge 1 :1\n",
      "Enter the end of edge 1 :1\n",
      "Enter the source : 1\n",
      "1\n",
      "0\n",
      "1\n",
      "1\n",
      "1\n"
     ]
    }
   ],
   "source": [
    "\n",
    "def DFS(start,graph,visited,ans):\n",
    "    visited[start] = 1;\n",
    "    ans.append(start);\n",
    "    for adj in graph[start]:\n",
    "        if(visited[adj]== 0):\n",
    "            DFS(adj,graph,visited,ans)\n",
    "\n",
    "if __name__ == \"__main__\" :\n",
    "    v = int(input(\"Enter the number of vertices : \"))\n",
    "    \n",
    "    # Create an empty graph with v vertices\n",
    "    graph = [[] for _ in range(v)]\n",
    "    \n",
    "    # Take number of edges as input\n",
    "    e = int(input(\"Enter number of edges : \"))\n",
    "    for i in range(e):\n",
    "        a = int(input(\"Enter start of edge %d :\"%i))\n",
    "        b = int(input(\"Enter the end of edge %d :\"%i))\n",
    "        graph[a].append(b);\n",
    "        graph[b].append(a);\n",
    "    \n",
    "    # Take source to perform DFS\n",
    "    src = int(input(\"Enter the source : \"))\n",
    "    \n",
    "    # Create a visited array of size v to keep track of visited vertices\n",
    "    visited = [0]*v\n",
    "    ans = []\n",
    "    for vert in range(v):\n",
    "        if(visited[vert] == 0):\n",
    "            DFS(src,graph,visited,ans);\n",
    "    \n",
    "    for el in ans:\n",
    "        print(el)\n",
    "    "
   ]
  },
  {
   "cell_type": "markdown",
   "id": "ab544f45",
   "metadata": {},
   "source": [
    "## BFS"
   ]
  },
  {
   "cell_type": "code",
   "execution_count": null,
   "id": "55b3b211",
   "metadata": {},
   "outputs": [],
   "source": [
    "\n"
   ]
  },
  {
   "cell_type": "code",
   "execution_count": null,
   "id": "de4ba1b7",
   "metadata": {},
   "outputs": [],
   "source": []
  },
  {
   "cell_type": "code",
   "execution_count": null,
   "id": "2d3cb3bf",
   "metadata": {},
   "outputs": [],
   "source": []
  }
 ],
 "metadata": {
  "kernelspec": {
   "display_name": "Python 3 (ipykernel)",
   "language": "python",
   "name": "python3"
  },
  "language_info": {
   "codemirror_mode": {
    "name": "ipython",
    "version": 3
   },
   "file_extension": ".py",
   "mimetype": "text/x-python",
   "name": "python",
   "nbconvert_exporter": "python",
   "pygments_lexer": "ipython3",
   "version": "3.11.3"
  }
 },
 "nbformat": 4,
 "nbformat_minor": 5
}
