{
 "cells": [
  {
   "cell_type": "code",
   "execution_count": 11,
   "id": "0fc03046",
   "metadata": {},
   "outputs": [
    {
     "name": "stdout",
     "output_type": "stream",
     "text": [
      "Enter the number of Queens : 10\n",
      "1 0 0 0 0 0 0 0 0 0 \n",
      "0 0 0 0 0 0 0 1 0 0 \n",
      "0 1 0 0 0 0 0 0 0 0 \n",
      "0 0 0 0 0 0 0 0 1 0 \n",
      "0 0 0 0 0 1 0 0 0 0 \n",
      "0 0 1 0 0 0 0 0 0 0 \n",
      "0 0 0 0 0 0 0 0 0 1 \n",
      "0 0 0 1 0 0 0 0 0 0 \n",
      "0 0 0 0 0 0 1 0 0 0 \n",
      "0 0 0 0 1 0 0 0 0 0 \n"
     ]
    }
   ],
   "source": [
    "\n",
    "def isSafe(row,col,slashHelper,backSlashHelper,slashLookup,backSlashLookup,rowLookup):\n",
    "    \n",
    "    if(slashLookup[slashHelper[row][col]] or \n",
    "       backSlashLookup[backSlashHelper[row][col]] or \n",
    "                       rowLookup[row]):\n",
    "        return False\n",
    "    \n",
    "    return True\n",
    "    \n",
    "\n",
    "def solveNQeens(board,col,slashHelper,backSlashHelper,slashLookup,backSlashLookup,rowLookup,N):\n",
    "    if( col >= N):\n",
    "        return True\n",
    "    \n",
    "    for i in range(N):\n",
    "        if isSafe(i,col,slashHelper,backSlashHelper,slashLookup,backSlashLookup,rowLookup):\n",
    "            \n",
    "            # place the queen\n",
    "            board[i][col] = 1\n",
    "            rowLookup[i] = True\n",
    "            slashLookup[slashHelper[i][col]] = True\n",
    "            backSlashLookup[backSlashHelper[i][col]] = True\n",
    "        \n",
    "            # recursive call to place remaning queen\n",
    "            if (solveNQeens(board,col+1,slashHelper,backSlashHelper,slashLookup,backSlashLookup,rowLookup,N)):\n",
    "                return True\n",
    "        \n",
    "            # If placing queen doesn't lead to solution backtrack\n",
    "            board[i][col] = 0\n",
    "            rowLookup[i] = False\n",
    "            slashLookup[slashHelper[i][col]] = False\n",
    "            backSlashLookup[backSlashHelper[i][col]] = False\n",
    "    \n",
    "    return False\n",
    "\n",
    "\n",
    "if __name__ == \"__main__\":\n",
    "    N = int(input(\"Enter the number of Queens : \"))\n",
    "    board = [[0 for _ in range(N)] for _ in range(N)]\n",
    "    \n",
    "    # Helper matrices\n",
    "    slashHelper = [[0 for _ in range(N)] for _ in range(N)]\n",
    "    backSlashHelper = [[0 for _ in range(N)] for _ in range(N)]\n",
    "    \n",
    "    # Arrayz to tell us which rows are occupied\n",
    "    rowLookup = [False] * N\n",
    "    \n",
    "    # Array to keep track of which diagonals are occupied\n",
    "    x = 2 * N - 1\n",
    "    slashLookup = [False] * x\n",
    "    backSlashLookup = [False] * x\n",
    "    \n",
    "    \n",
    "    # initialize helper matrices\n",
    "    for i in range(N):\n",
    "        for j in range(N):\n",
    "            slashHelper[i][j] = i + j\n",
    "            backSlashHelper[i][j] = i - j + (N-1)\n",
    "    \n",
    "    if solveNQeens(board,0,slashHelper,backSlashHelper,slashLookup,backSlashLookup,rowLookup,N):\n",
    "        for i in range(N):\n",
    "            for j in range(N):\n",
    "                print(board[i][j], end=\" \")\n",
    "            print()\n",
    "    else:\n",
    "        print(\"Solution is not possible.\")\n",
    "    "
   ]
  },
  {
   "cell_type": "code",
   "execution_count": null,
   "id": "f2cfff85",
   "metadata": {},
   "outputs": [],
   "source": []
  }
 ],
 "metadata": {
  "kernelspec": {
   "display_name": "Python 3 (ipykernel)",
   "language": "python",
   "name": "python3"
  },
  "language_info": {
   "codemirror_mode": {
    "name": "ipython",
    "version": 3
   },
   "file_extension": ".py",
   "mimetype": "text/x-python",
   "name": "python",
   "nbconvert_exporter": "python",
   "pygments_lexer": "ipython3",
   "version": "3.10.6"
  }
 },
 "nbformat": 4,
 "nbformat_minor": 5
}
