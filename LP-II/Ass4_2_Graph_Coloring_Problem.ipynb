{
 "cells": [
  {
   "cell_type": "code",
   "execution_count": 22,
   "id": "20566330",
   "metadata": {},
   "outputs": [
    {
     "name": "stdout",
     "output_type": "stream",
     "text": [
      "Enter the number of vertices : 4\n",
      "Enter the number of colors : 3\n",
      "Enter the number of edges : 5\n",
      "Enter edge 1  :\n",
      "Src :0\n",
      "Dist :1\n",
      "Enter edge 2  :\n",
      "Src :1\n",
      "Dist :2\n",
      "Enter edge 3  :\n",
      "Src :2\n",
      "Dist :3\n",
      "Enter edge 4  :\n",
      "Src :0\n",
      "Dist :2\n",
      "Enter edge 5  :\n",
      "Src :0\n",
      "Dist :3\n",
      "We can color the given graph with 3 colors\n"
     ]
    }
   ],
   "source": [
    "#User function Template for python3\n",
    "\n",
    "def isSafe(node,graph,V,colored,selectedColor):\n",
    "    for i in range(V):\n",
    "        if i != node and graph[node][i] == 1 and colored[i] == selectedColor:\n",
    "            return False\n",
    "    \n",
    "    return True\n",
    "\n",
    "\n",
    "def mColoring(node,graph,k,V,colored):\n",
    "    \n",
    "    if node == V:\n",
    "        return True\n",
    "    \n",
    "    for i in range(k):\n",
    "        if isSafe(node,graph,V,colored,i):\n",
    "            colored[node] = i\n",
    "            if mColoring(node+1,graph,k,V,colored):\n",
    "                return True\n",
    "            \n",
    "            colored[node] = -1\n",
    "    \n",
    "    return False\n",
    "\n",
    "#Function to determine if graph can be coloured with at most M colours such\n",
    "#that no two adjacent vertices of graph are coloured with same colour.\n",
    "def graphColoring(graph, k, V):\n",
    "    \n",
    "    #your code here\n",
    "    colored = [-1]*V\n",
    "    return mColoring(0,graph,k,V,colored)\n",
    "\n",
    "if __name__ == '__main__':\n",
    "    \n",
    "    V = int(input(\"Enter the number of vertices : \"))\n",
    "    k = int(input(\"Enter the number of colors : \"))\n",
    "    \n",
    "    e = int(input(\"Enter the number of edges : \"))\n",
    "    graph = [[0 for i in range(V)] for j in range(V)]\n",
    "    \n",
    "    for i in range(e):\n",
    "        print(\"Enter edge %d  :\"%(i+1))\n",
    "        s = int(input('Src :'))\n",
    "        d = int(input('Dist :'))\n",
    "        \n",
    "        graph[s][d] = 1\n",
    "        graph[d][s] = 1\n",
    "\n",
    "    \n",
    "    if graphColoring(graph,k,V):\n",
    "        print(\"We can color the given graph with %d colors\"%k)\n",
    "    else:\n",
    "        print(\"We can't color the given graph with %d colors\"%k)\n",
    "    "
   ]
  },
  {
   "cell_type": "code",
   "execution_count": null,
   "id": "54dd86a7",
   "metadata": {},
   "outputs": [],
   "source": []
  }
 ],
 "metadata": {
  "kernelspec": {
   "display_name": "Python 3 (ipykernel)",
   "language": "python",
   "name": "python3"
  },
  "language_info": {
   "codemirror_mode": {
    "name": "ipython",
    "version": 3
   },
   "file_extension": ".py",
   "mimetype": "text/x-python",
   "name": "python",
   "nbconvert_exporter": "python",
   "pygments_lexer": "ipython3",
   "version": "3.10.6"
  }
 },
 "nbformat": 4,
 "nbformat_minor": 5
}
