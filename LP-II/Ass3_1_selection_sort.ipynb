{
 "cells": [
  {
   "cell_type": "code",
   "execution_count": 1,
   "id": "0c592778",
   "metadata": {},
   "outputs": [
    {
     "name": "stdout",
     "output_type": "stream",
     "text": [
      "Enter array elements separated by spaces : 5\n",
      "Array elements before sorting :  [5]\n",
      "Array elements after sorting :  [5]\n"
     ]
    }
   ],
   "source": [
    "\n",
    "\n",
    "if __name__ == \"__main__\" :\n",
    "    # take space separated array elements as a string input \n",
    "    input_line = input(\"Enter array elements separated by spaces : \")\n",
    "    \n",
    "    # split the elements. Here we will get the list of elements in string form\n",
    "    arr = input_line.split()\n",
    "    \n",
    "    # convert list of string into list of numbers\n",
    "    arr = [int(ele) for ele in arr];\n",
    "    \n",
    "    print(\"Array elements before sorting : \",arr)\n",
    "    \n",
    "    for i in range(len(arr)-1):\n",
    "        minElementIndex = i\n",
    "        # find the minimum element from unsorted array\n",
    "        for j in range(i+1,len(arr)):\n",
    "            if(arr[j] < arr[minElementIndex]):\n",
    "                minElementIndex = j\n",
    "        \n",
    "        # Swap element i with element at minElementIndex\n",
    "        temp = arr[i]\n",
    "        arr[i] = arr[minElementIndex]\n",
    "        arr[minElementIndex] = temp\n",
    "    \n",
    "    print(\"Array elements after sorting : \",arr)"
   ]
  },
  {
   "cell_type": "code",
   "execution_count": null,
   "id": "6e6fbcb5",
   "metadata": {},
   "outputs": [],
   "source": []
  }
 ],
 "metadata": {
  "kernelspec": {
   "display_name": "Python 3 (ipykernel)",
   "language": "python",
   "name": "python3"
  },
  "language_info": {
   "codemirror_mode": {
    "name": "ipython",
    "version": 3
   },
   "file_extension": ".py",
   "mimetype": "text/x-python",
   "name": "python",
   "nbconvert_exporter": "python",
   "pygments_lexer": "ipython3",
   "version": "3.11.3"
  }
 },
 "nbformat": 4,
 "nbformat_minor": 5
}
